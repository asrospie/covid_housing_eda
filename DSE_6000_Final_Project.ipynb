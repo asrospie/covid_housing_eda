{
  "nbformat": 4,
  "nbformat_minor": 0,
  "metadata": {
    "colab": {
      "name": "DSE 6000 Final Project.ipynb",
      "provenance": []
    },
    "kernelspec": {
      "name": "python3",
      "display_name": "Python 3"
    },
    "language_info": {
      "name": "python"
    }
  },
  "cells": [
    {
      "cell_type": "code",
      "execution_count": null,
      "metadata": {
        "id": "2M4-RUiipsAX"
      },
      "outputs": [],
      "source": [
        "import pandas as pd\n",
        "import seaborn as sns\n",
        "import  matplotlib.pyplot as plt\n",
        "import textwrap\n",
        "\n",
        "df = pd.read_csv('https://storage.googleapis.com/hk4417_dse6000_hoassignment/Covid_Data.csv', encoding=\"ISO-8859-1\")"
      ]
    },
    {
      "cell_type": "code",
      "source": [
        "#TODO\n",
        "\n",
        "#20 correlation statements\n",
        "\n",
        "def vaccination_correlation(df):\n",
        "  y = df[df['indicator'] == 'Vac_done']\n",
        "  x = y.copy()\n",
        "  x['percentage_vaccinated'] = (x['sample_subset']/x['sample_total']) *100 \n",
        "  x['month'] = x['month'].astype('int')\n",
        "  x['date'] = x['month'].astype('str') + '-'+ x['year'].astype('str')\n",
        "  x['date'] = pd.to_datetime(x['date'], format='%m-%Y')\n",
        "  percentage = x['percentage_vaccinated'].astype('category').cat.codes\n",
        "  development = x['urban_rural'].astype('category').cat.codes\n",
        "\n",
        "  vax_correlation = percentage.corr(development)\n",
        "  return vax_correlation"
      ],
      "metadata": {
        "id": "WUs9vCqKqNq8"
      },
      "execution_count": null,
      "outputs": []
    },
    {
      "cell_type": "code",
      "source": [
        "#TODO\n",
        "\n",
        "# Meaningful plots of 5 different types\n",
        "# Every plot should have a title and x/y axis should have legible labels without any label overlaps for full credit"
      ],
      "metadata": {
        "id": "5PfUJkwxqT7q"
      },
      "execution_count": null,
      "outputs": []
    },
    {
      "cell_type": "code",
      "source": [
        "#TODO\n",
        "\n",
        "# At least 2 queries, like using select, group by, segmentation, etc., which does not produce charts but will bring out some meaningful results that you can articulate"
      ],
      "metadata": {
        "id": "ZkFcG7YHt46_"
      },
      "execution_count": null,
      "outputs": []
    },
    {
      "cell_type": "code",
      "source": [
        "#TODO\n",
        "\n",
        "# You should have a final conclusion, highlighting the main insights that you were able to derive from your analysis"
      ],
      "metadata": {
        "id": "IaSe2RFKt7om"
      },
      "execution_count": null,
      "outputs": []
    }
  ]
}