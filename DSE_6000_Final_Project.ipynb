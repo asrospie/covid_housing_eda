{
  "nbformat": 4,
  "nbformat_minor": 0,
  "metadata": {
    "colab": {
      "name": "DSE 6000 Final Project.ipynb",
      "provenance": []
    },
    "kernelspec": {
      "name": "python3",
      "display_name": "Python 3"
    },
    "language_info": {
      "name": "python"
    }
  },
  "cells": [
    {
      "cell_type": "code",
      "execution_count": 1,
      "metadata": {
        "id": "2M4-RUiipsAX"
      },
      "outputs": [],
      "source": [
        "import pandas as pd\n",
        "import seaborn as sns\n",
        "import  matplotlib.pyplot as plt\n",
        "import textwrap\n",
        "import numpy as np\n",
        "\n",
        "df = pd.read_csv('https://storage.googleapis.com/hk4417_dse6000_hoassignment/Covid_Data.csv', encoding=\"ISO-8859-1\")"
      ]
    },
    {
      "cell_type": "code",
      "source": [
        "#TODO\n",
        "\n",
        "#20 correlation statements\n",
        "\n",
        "# 1\n",
        "def vaccination_correlation(df):\n",
        "  y = df[df['indicator'] == 'Vac_done']\n",
        "  x = y.copy()\n",
        "  x['percentage_vaccinated'] = (x['sample_subset']/x['sample_total']) *100 \n",
        "  percentage = x['percentage_vaccinated'].astype('category').cat.codes\n",
        "  development = x['urban_rural'].astype('category').cat.codes\n",
        "\n",
        "  vax_correlation = percentage.corr(development)\n",
        "  return vax_correlation\n"
      ],
      "metadata": {
        "id": "WUs9vCqKqNq8"
      },
      "execution_count": 2,
      "outputs": []
    },
    {
      "cell_type": "code",
      "source": [
        "# 2\n",
        "income = df[['income_group', 'sample_total']].drop_duplicates(subset=['income_group', 'sample_total'], keep='first')\n",
        "income = income.groupby('income_group').agg({'sample_total': 'count'})"
      ],
      "metadata": {
        "id": "RPwTT-nwXVVx"
      },
      "execution_count": null,
      "outputs": []
    },
    {
      "cell_type": "code",
      "source": [
        "# 3 \n",
        "industry = df[['industry', 'sample_total']].drop_duplicates(subset=['industry', 'sample_total'], keep='first')\n",
        "industry = industry.groupby('industry').agg({'sample_total': 'count'})"
      ],
      "metadata": {
        "id": "wkYqA_ffZPp8"
      },
      "execution_count": null,
      "outputs": []
    },
    {
      "cell_type": "code",
      "source": [
        "# 4 \n",
        "coping = df[df['indicator_topic'] == 'Coping']\n",
        "coping['count_column'] = 1\n",
        "coping_count = coping.groupby(['indicator_display', 'country']).agg({'count_column':'count'})"
      ],
      "metadata": {
        "id": "8lv2r4PRaW7T"
      },
      "execution_count": null,
      "outputs": []
    },
    {
      "cell_type": "code",
      "source": [
        "# 5\n",
        "copi_sold = (df['indicator'] == 'Copi_sold') & (df['industry'] == 'All') & (df['wave'] == 'WAVE1')\n",
        "df.loc[copi_sold, ['country', 'indicator_display', 'urban_rural', 'sample_subset', 'sample_total', 'income_group']]"
      ],
      "metadata": {
        "id": "ZCEJ8fFjv5aT"
      },
      "execution_count": null,
      "outputs": []
    },
    {
      "cell_type": "code",
      "source": [
        "# 6\n",
        "copi_sold2 = (df['indicator'] == 'Copi_sold') & (df['industry'] == 'All') & (df['wave'] == 'WAVE2')\n",
        "df.loc[copi_sold2, ['country', 'indicator_display', 'urban_rural', 'sample_subset', 'sample_total', 'income_group']]"
      ],
      "metadata": {
        "id": "cyMsfkzdwOAy"
      },
      "execution_count": null,
      "outputs": []
    },
    {
      "cell_type": "code",
      "source": [
        "# 7 \n",
        "# covid_project_Peru_vaccination = df[df.indicator_topic.isin(['Vaccination'])]\n",
        "# covid_project_Peru_vaccination = df[df['indicator'].str.contains('Vac_concer')]\n",
        "# covid_project_Peru_vaccination2 = covid_project_Peru_vaccination.copy()\n",
        "# covid_project_Peru_vaccination2.drop(df.index[df['indicator'] == 'Vac_concern_9'], inplace=True)\n",
        "# covid_project_Peru_vaccination2[\"indicator_display\"] = df[\"indicator_display\"].str.replace(\"Not wanting or unsure about vaccination\",\"\")\n",
        "# covid_project_Peru_vaccination2[['income_group', 'month', 'year', 'indicator_topic', 'GDP_pc']]\n"
      ],
      "metadata": {
        "id": "LNqrf7DAw5ZU"
      },
      "execution_count": null,
      "outputs": []
    },
    {
      "cell_type": "code",
      "source": [
        "# 8\n",
        "FS_day = (df['indicator'] == 'FS_day') & (df['industry'] == 'All') & (df['wave'] == 'WAVE1')\n",
        "df.loc[FS_day, ['country', 'indicator_display', 'urban_rural', 'sample_subset', 'sample_total', 'income_group']]"
      ],
      "metadata": {
        "id": "3W6LwRUBw_cC"
      },
      "execution_count": null,
      "outputs": []
    },
    {
      "cell_type": "code",
      "source": [
        "# 9\n",
        "covid_project_Peru_education = df[df.indicator.isin(['Demo_educ1', 'Demo_educ2', 'Demo_educ3', 'Demo_educ4']) \\\n",
        "                                                  & df.wave.isin(['WAVE1'])]\n"
      ],
      "metadata": {
        "id": "LEQXE9vBxF2-"
      },
      "execution_count": null,
      "outputs": []
    },
    {
      "cell_type": "code",
      "source": [
        "# 10\n",
        "FS_day3 = (df['indicator'] == 'FS_day') & (df['industry'] == 'All') & (df['wave'] == 'WAVE3')\n",
        "df.loc[FS_day3, ['country', 'indicator_display', 'urban_rural', 'sample_subset', 'sample_total', 'income_group']]"
      ],
      "metadata": {
        "id": "-PkxKRQ3xKzH"
      },
      "execution_count": null,
      "outputs": []
    },
    {
      "cell_type": "code",
      "source": [
        "# 11\n",
        "Safe_anysource = (df['indicator'] == 'Safe_anysource') & (df['industry'] == 'All')\n",
        "df.loc[Safe_anysource, ['country', 'indicator_display', 'urban_rural', 'sample_subset', 'sample_total', 'income_group']]"
      ],
      "metadata": {
        "id": "DxGEaUsGxTDP"
      },
      "execution_count": null,
      "outputs": []
    },
    {
      "cell_type": "code",
      "source": [
        "# 12\n",
        "Educ_mobi = (df['indicator'] == 'Educ_mobi') & (df['industry'] == 'All') & (df['wave'] == 'WAVE1')\n",
        "df.loc[Educ_mobi, ['country', 'indicator_display', 'urban_rural', 'sample_subset', 'sample_total', 'income_group']]"
      ],
      "metadata": {
        "id": "HPnLvDYYxZSM"
      },
      "execution_count": null,
      "outputs": []
    },
    {
      "cell_type": "code",
      "source": [
        "# 13\n",
        "Educ_mobi2 = (df['indicator'] == 'Educ_mobi') & (df['industry'] == 'All') & (df['wave'] == 'WAVE2')\n",
        "df.loc[Educ_mobi2, ['country', 'indicator_display', 'urban_rural', 'sample_subset', 'sample_total', 'income_group']]"
      ],
      "metadata": {
        "id": "FQx69xpTxedd"
      },
      "execution_count": null,
      "outputs": []
    },
    {
      "cell_type": "code",
      "source": [
        "# 14\n",
        "Educ_mobi3 = (df['indicator'] == 'Educ_mobi') & (df['industry'] == 'All') & (df['wave'] == 'WAVE3')\n",
        "df.loc[Educ_mobi3, ['country', 'indicator_display', 'urban_rural', 'sample_subset', 'sample_total', 'income_group']]"
      ],
      "metadata": {
        "id": "RgdU6ea4xkJA"
      },
      "execution_count": null,
      "outputs": []
    },
    {
      "cell_type": "code",
      "source": [
        "#15\n",
        "Heal_reason1 = (df['indicator'] == 'Heal_reason1') & (df['industry'] == 'All') & (df['wave'] == 'WAVE1')\n",
        "df.loc[Heal_reason1, ['country', 'indicator_display', 'urban_rural', 'sample_subset', 'sample_total', 'income_group']]"
      ],
      "metadata": {
        "id": "Dt-rbfUx8AAq"
      },
      "execution_count": null,
      "outputs": []
    },
    {
      "cell_type": "code",
      "source": [
        "# 16\n",
        "vax_income = df[df['indicator'] == 'Vac_done']\n",
        "y = vax_income.copy()\n",
        "y['percentage_vaccinated'] = (y['sample_subset']/y['sample_total'])\n",
        "x = y[['income_group', 'percentage_vaccinated']].groupby('income_group').agg({'percentage_vaccinated':'mean'}).style.format(\"{:.1%}\")"
      ],
      "metadata": {
        "id": "80AHyLjRAAwn"
      },
      "execution_count": null,
      "outputs": []
    },
    {
      "cell_type": "code",
      "source": [
        "# 17\n",
        "frame = pd.DataFrame()\n",
        "for i in range(1, 10):\n",
        "  x = df[df['indicator'] == f'Vac_concern_{i}']\n",
        "  frame = frame.append(x)\n",
        "pd.pivot_table(frame, values='indicator', index=['indicator_display'],\n",
        "                    columns=['income_group'], aggfunc={'income_group' : 'count'})"
      ],
      "metadata": {
        "id": "6dM6Yb8-LMh1"
      },
      "execution_count": null,
      "outputs": []
    },
    {
      "cell_type": "markdown",
      "source": [
        "Plots and charts"
      ],
      "metadata": {
        "id": "idkVMmUCfgnB"
      }
    },
    {
      "cell_type": "code",
      "source": [
        "# 1\n",
        "def region_graph(df):\n",
        "  frame_count = df[['region_code', 'region']]\\\n",
        "                .groupby('region_code')\\\n",
        "                .agg({'region' : 'count'})\\\n",
        "                .reset_index()\n",
        "  frame_count.rename(columns={\"region\": \"region_count\"})\n",
        "  frame_plot = df[['region', 'region_code']]\n",
        "  frame_plot_graph = frame_count.join(frame_plot.set_index('region_code'),\\\n",
        "                                      on='region_code', how='inner', lsuffix='_count')\\\n",
        "                                      .sort_values(by='region_count', ascending=False)\n",
        "  return frame_plot_graph\n",
        "\n",
        "frame_plot = region_graph(df)\n",
        "\n",
        "%matplotlib inline\n",
        "sns.set(style=\"darkgrid\")\n",
        "ax = sns.countplot(x='region_code', hue='region', data=frame_plot)\n",
        "sns.move_legend(ax, \"upper right\")\n",
        "plt.show()"
      ],
      "metadata": {
        "id": "5PfUJkwxqT7q"
      },
      "execution_count": null,
      "outputs": []
    },
    {
      "cell_type": "code",
      "source": [
        "#2\n",
        "df['FCS'] = df['FCS'].fillna('None')\n",
        "df['FCS'].unique()\n",
        "cat_df = df[['indicator', 'indicator_val', 'FCS', 'income_group']]\n",
        "cat_df = cat_df[(cat_df['indicator'] == 'Heal_need') | (cat_df['indicator'] == 'Fina_access')]\n",
        "cat_df['indicator'] = cat_df['indicator'].apply(lambda x: 'Need Med. Assistant' if x == 'Heal_need' else 'Financial Access')\n",
        "\n",
        "ax = sns.catplot(data=cat_df, x='indicator', y='indicator_val', hue='income_group', col='FCS', col_wrap=3)\n",
        "ax.fig.subplots_adjust(top=0.9) \n",
        "ax.fig.suptitle('Exploring Conflict Zones, Financial Access and Medical Assistance within Income Groups')"
      ],
      "metadata": {
        "id": "CRpzt51WfLq4"
      },
      "execution_count": null,
      "outputs": []
    },
    {
      "cell_type": "code",
      "source": [
        "#3\n",
        "vac_df = df[['indicator_val', 'indicator', 'income_group']]\n",
        "vac_df = vac_df[(vac_df['indicator'] == 'Vac_done') | (vac_df['indicator'] == 'Know_any')]\n",
        "vac_df['indicator'] = vac_df['indicator'].apply(lambda x: 'Known Gov. Intv.' if x == 'Know_any' else 'Vaccinated')\n",
        "\n",
        "ax = sns.violinplot(data=vac_df, x='income_group', y='indicator_val', hue='indicator', split=True)\n",
        "ax.set(title='% of Respondents Per Income Group Vaccinated and Know of any Gov. Intervention', xlabel='Income Group', ylabel='% of Respondents')"
      ],
      "metadata": {
        "id": "C1T92otKfMmj"
      },
      "execution_count": null,
      "outputs": []
    },
    {
      "cell_type": "code",
      "source": [
        "#4\n",
        "area_df = df[df['indicator'].str.contains('Demo_educ')]\n",
        "area_pt = pd.pivot_table(area_df, values=['indicator_val'], index=['urban_rural', 'indicator'], aggfunc=np.mean).reset_index()\n",
        "educ_mapper = {'Demo_educ1': 'No Education',\n",
        "               'Demo_educ2': 'Any Primary',\n",
        "               'Demo_educ3': 'Any Secondary',\n",
        "               'Demo_educ4': 'Any Post Secondary'}\n",
        "area_pt['indicator'] = area_pt['indicator'].apply(lambda x: educ_mapper[x])\n",
        "\n",
        "sns.set(rc={'figure.figsize':(15,8)})\n",
        "ax = sns.barplot(x='urban_rural', y='indicator_val', hue='indicator', data=area_pt)\n",
        "ax.set(title='Percentage of Respondents per Education Level in Differing Areas', xlabel='Area of Country', ylabel='% of Respondents')\n",
        "ax.legend(loc='upper left')\n",
        "plt.show()\n"
      ],
      "metadata": {
        "id": "1gGimwlwfNNx"
      },
      "execution_count": null,
      "outputs": []
    },
    {
      "cell_type": "code",
      "source": [
        "#5\n",
        "gdp_df = df[['indicator', 'indicator_val', 'GDP_pc']]\n",
        "gdp_df = gdp_df.rename(columns={'indicator_val': 'Preventative Measure', 'GDP_pc': 'GDP / Capita'})\n",
        "gdp_df = gdp_df[gdp_df['indicator'] == 'Prev_AP_other']\n",
        "\n",
        "sns.set(rc={'figure.figsize':(15,8)})\n",
        "ax = sns.displot(x='GDP / Capita', y='Preventative Measure', data=gdp_df, bins=10)\n",
        "ax.set(title='Distribution of Preventative Measures per GDP / Capita')"
      ],
      "metadata": {
        "id": "-QNqEXdmfNaU"
      },
      "execution_count": null,
      "outputs": []
    },
    {
      "cell_type": "markdown",
      "source": [
        "Exploring queries"
      ],
      "metadata": {
        "id": "C2WQPEsJ-VjL"
      }
    },
    {
      "cell_type": "code",
      "source": [
        "#1\n",
        "bad_value = ['Not reported']\n",
        "reporting = df[~df[\"urban_rural\"].isin(bad_value)]\n",
        "pd.pivot_table(reporting, values='GDP_pc', index=['FCS'],\n",
        "                    columns=['income_group'], aggfunc={'income_group' : 'count'})\\\n",
        "                    .sort_values(['FCS'], ascending=[True])"
      ],
      "metadata": {
        "id": "ZkFcG7YHt46_"
      },
      "execution_count": null,
      "outputs": []
    },
    {
      "cell_type": "code",
      "source": [
        "#2\n",
        "explore = df.groupby('country').agg({'GDP_pc': 'mean'})\n",
        "explore.sort_values(['GDP_pc'], ascending=[False])\n",
        "explore.reset_index()"
      ],
      "metadata": {
        "id": "hre39BK63xBu"
      },
      "execution_count": null,
      "outputs": []
    },
    {
      "cell_type": "code",
      "source": [
        "#TODO\n",
        "# You should have a final conclusion, highlighting the main insights that you were able to derive from your analysis\n"
      ],
      "metadata": {
        "id": "IaSe2RFKt7om"
      },
      "execution_count": null,
      "outputs": []
    }
  ]
}