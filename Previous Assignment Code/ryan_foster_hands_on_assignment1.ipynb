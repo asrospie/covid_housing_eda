{
  "nbformat": 4,
  "nbformat_minor": 0,
  "metadata": {
    "colab": {
      "name": "ryan_foster_hands_on_assignment1.ipynb",
      "provenance": [],
      "collapsed_sections": []
    },
    "kernelspec": {
      "name": "python3",
      "display_name": "Python 3"
    },
    "language_info": {
      "name": "python"
    }
  },
  "cells": [
    {
      "cell_type": "code",
      "execution_count": null,
      "metadata": {
        "id": "rrpdlQD_sBsq"
      },
      "outputs": [],
      "source": [
        "import pandas as pd\n",
        "import seaborn as sns\n",
        "import  matplotlib.pyplot as plt\n",
        "import textwrap\n",
        "\n",
        "df = pd.read_csv('https://storage.googleapis.com/hk4417_dse6000_hoassignment/Covid_Data.csv', encoding=\"ISO-8859-1\")"
      ]
    },
    {
      "cell_type": "code",
      "source": [
        "df['country'].mode()"
      ],
      "metadata": {
        "colab": {
          "base_uri": "https://localhost:8080/"
        },
        "id": "k4PX6z2iaHK2",
        "outputId": "d86b55a2-17f1-406d-b359-1fc38593c341"
      },
      "execution_count": null,
      "outputs": [
        {
          "output_type": "execute_result",
          "data": {
            "text/plain": [
              "0    Ethiopia\n",
              "dtype: object"
            ]
          },
          "metadata": {},
          "execution_count": 9
        }
      ]
    },
    {
      "cell_type": "markdown",
      "source": [
        "**Hypothesis**\n",
        "\n",
        "During the initial review of the data, I was more interested on the relation between gdp, time and vaccination status. What I am looking to find out is what the relation, if any, there was between the amount of time that has passed, the country people were from and the average gdp would be.\n",
        "\n",
        "I hypothesis that there will be a stronger relation of vaccinations in weathier countries and the number of vaccinations will increase as time moves on and supply becomes abundant."
      ],
      "metadata": {
        "id": "nLwL9lqv8sQR"
      }
    },
    {
      "cell_type": "markdown",
      "source": [
        ""
      ],
      "metadata": {
        "id": "JiimLenRi7J2"
      }
    },
    {
      "cell_type": "markdown",
      "source": [
        ""
      ],
      "metadata": {
        "id": "lbV7JXx8V7dC"
      }
    },
    {
      "cell_type": "code",
      "source": [
        "df['GDP_pc'].describe()"
      ],
      "metadata": {
        "colab": {
          "base_uri": "https://localhost:8080/"
        },
        "id": "EdOr91pG0omb",
        "outputId": "4a5c5bbf-d9e8-42fa-cc5d-be5d54a66620"
      },
      "execution_count": null,
      "outputs": [
        {
          "output_type": "execute_result",
          "data": {
            "text/plain": [
              "count    120240.000000\n",
              "mean       8852.168671\n",
              "std        7100.677315\n",
              "min         941.000000\n",
              "25%        2661.000000\n",
              "50%        7252.000000\n",
              "75%       12616.000000\n",
              "max       33185.000000\n",
              "Name: GDP_pc, dtype: float64"
            ]
          },
          "metadata": {},
          "execution_count": 2
        }
      ]
    },
    {
      "cell_type": "markdown",
      "source": [
        "**Summary**\n",
        "\n",
        "I wanted to see within the dataset before diving in what the general statistics for the data would be. By taking the general stats of the GDP column for the entire dataset I was hoping to find a good range in here. "
      ],
      "metadata": {
        "id": "5QdKLWqzV0Dw"
      }
    },
    {
      "cell_type": "code",
      "source": [
        "explore = df.groupby('country').agg({'GDP_pc': 'mean'})\n",
        "explore.sort_values(['GDP_pc'], ascending=[False])\n",
        "explore.reset_index()"
      ],
      "metadata": {
        "colab": {
          "base_uri": "https://localhost:8080/",
          "height": 424
        },
        "id": "C8ka378A1OQV",
        "outputId": "94d78db9-1d55-4ffc-af65-0477851e4cdc"
      },
      "execution_count": null,
      "outputs": [
        {
          "output_type": "execute_result",
          "data": {
            "text/plain": [
              "                country   GDP_pc\n",
              "0           Afghanistan   2065.0\n",
              "1   Antigua and Barbuda  21850.0\n",
              "2             Argentina  22066.0\n",
              "3               Armenia  13654.0\n",
              "4            Bangladesh   4754.0\n",
              "..                  ...      ...\n",
              "79           Uzbekistan   7348.0\n",
              "80              Vietnam   8041.0\n",
              "81   West Bank and Gaza   6245.0\n",
              "82               Zambia   3470.0\n",
              "83             Zimbabwe   3630.0\n",
              "\n",
              "[84 rows x 2 columns]"
            ],
            "text/html": [
              "\n",
              "  <div id=\"df-eae97452-177e-4e74-bff9-119c58e736eb\">\n",
              "    <div class=\"colab-df-container\">\n",
              "      <div>\n",
              "<style scoped>\n",
              "    .dataframe tbody tr th:only-of-type {\n",
              "        vertical-align: middle;\n",
              "    }\n",
              "\n",
              "    .dataframe tbody tr th {\n",
              "        vertical-align: top;\n",
              "    }\n",
              "\n",
              "    .dataframe thead th {\n",
              "        text-align: right;\n",
              "    }\n",
              "</style>\n",
              "<table border=\"1\" class=\"dataframe\">\n",
              "  <thead>\n",
              "    <tr style=\"text-align: right;\">\n",
              "      <th></th>\n",
              "      <th>country</th>\n",
              "      <th>GDP_pc</th>\n",
              "    </tr>\n",
              "  </thead>\n",
              "  <tbody>\n",
              "    <tr>\n",
              "      <th>0</th>\n",
              "      <td>Afghanistan</td>\n",
              "      <td>2065.0</td>\n",
              "    </tr>\n",
              "    <tr>\n",
              "      <th>1</th>\n",
              "      <td>Antigua and Barbuda</td>\n",
              "      <td>21850.0</td>\n",
              "    </tr>\n",
              "    <tr>\n",
              "      <th>2</th>\n",
              "      <td>Argentina</td>\n",
              "      <td>22066.0</td>\n",
              "    </tr>\n",
              "    <tr>\n",
              "      <th>3</th>\n",
              "      <td>Armenia</td>\n",
              "      <td>13654.0</td>\n",
              "    </tr>\n",
              "    <tr>\n",
              "      <th>4</th>\n",
              "      <td>Bangladesh</td>\n",
              "      <td>4754.0</td>\n",
              "    </tr>\n",
              "    <tr>\n",
              "      <th>...</th>\n",
              "      <td>...</td>\n",
              "      <td>...</td>\n",
              "    </tr>\n",
              "    <tr>\n",
              "      <th>79</th>\n",
              "      <td>Uzbekistan</td>\n",
              "      <td>7348.0</td>\n",
              "    </tr>\n",
              "    <tr>\n",
              "      <th>80</th>\n",
              "      <td>Vietnam</td>\n",
              "      <td>8041.0</td>\n",
              "    </tr>\n",
              "    <tr>\n",
              "      <th>81</th>\n",
              "      <td>West Bank and Gaza</td>\n",
              "      <td>6245.0</td>\n",
              "    </tr>\n",
              "    <tr>\n",
              "      <th>82</th>\n",
              "      <td>Zambia</td>\n",
              "      <td>3470.0</td>\n",
              "    </tr>\n",
              "    <tr>\n",
              "      <th>83</th>\n",
              "      <td>Zimbabwe</td>\n",
              "      <td>3630.0</td>\n",
              "    </tr>\n",
              "  </tbody>\n",
              "</table>\n",
              "<p>84 rows × 2 columns</p>\n",
              "</div>\n",
              "      <button class=\"colab-df-convert\" onclick=\"convertToInteractive('df-eae97452-177e-4e74-bff9-119c58e736eb')\"\n",
              "              title=\"Convert this dataframe to an interactive table.\"\n",
              "              style=\"display:none;\">\n",
              "        \n",
              "  <svg xmlns=\"http://www.w3.org/2000/svg\" height=\"24px\"viewBox=\"0 0 24 24\"\n",
              "       width=\"24px\">\n",
              "    <path d=\"M0 0h24v24H0V0z\" fill=\"none\"/>\n",
              "    <path d=\"M18.56 5.44l.94 2.06.94-2.06 2.06-.94-2.06-.94-.94-2.06-.94 2.06-2.06.94zm-11 1L8.5 8.5l.94-2.06 2.06-.94-2.06-.94L8.5 2.5l-.94 2.06-2.06.94zm10 10l.94 2.06.94-2.06 2.06-.94-2.06-.94-.94-2.06-.94 2.06-2.06.94z\"/><path d=\"M17.41 7.96l-1.37-1.37c-.4-.4-.92-.59-1.43-.59-.52 0-1.04.2-1.43.59L10.3 9.45l-7.72 7.72c-.78.78-.78 2.05 0 2.83L4 21.41c.39.39.9.59 1.41.59.51 0 1.02-.2 1.41-.59l7.78-7.78 2.81-2.81c.8-.78.8-2.07 0-2.86zM5.41 20L4 18.59l7.72-7.72 1.47 1.35L5.41 20z\"/>\n",
              "  </svg>\n",
              "      </button>\n",
              "      \n",
              "  <style>\n",
              "    .colab-df-container {\n",
              "      display:flex;\n",
              "      flex-wrap:wrap;\n",
              "      gap: 12px;\n",
              "    }\n",
              "\n",
              "    .colab-df-convert {\n",
              "      background-color: #E8F0FE;\n",
              "      border: none;\n",
              "      border-radius: 50%;\n",
              "      cursor: pointer;\n",
              "      display: none;\n",
              "      fill: #1967D2;\n",
              "      height: 32px;\n",
              "      padding: 0 0 0 0;\n",
              "      width: 32px;\n",
              "    }\n",
              "\n",
              "    .colab-df-convert:hover {\n",
              "      background-color: #E2EBFA;\n",
              "      box-shadow: 0px 1px 2px rgba(60, 64, 67, 0.3), 0px 1px 3px 1px rgba(60, 64, 67, 0.15);\n",
              "      fill: #174EA6;\n",
              "    }\n",
              "\n",
              "    [theme=dark] .colab-df-convert {\n",
              "      background-color: #3B4455;\n",
              "      fill: #D2E3FC;\n",
              "    }\n",
              "\n",
              "    [theme=dark] .colab-df-convert:hover {\n",
              "      background-color: #434B5C;\n",
              "      box-shadow: 0px 1px 3px 1px rgba(0, 0, 0, 0.15);\n",
              "      filter: drop-shadow(0px 1px 2px rgba(0, 0, 0, 0.3));\n",
              "      fill: #FFFFFF;\n",
              "    }\n",
              "  </style>\n",
              "\n",
              "      <script>\n",
              "        const buttonEl =\n",
              "          document.querySelector('#df-eae97452-177e-4e74-bff9-119c58e736eb button.colab-df-convert');\n",
              "        buttonEl.style.display =\n",
              "          google.colab.kernel.accessAllowed ? 'block' : 'none';\n",
              "\n",
              "        async function convertToInteractive(key) {\n",
              "          const element = document.querySelector('#df-eae97452-177e-4e74-bff9-119c58e736eb');\n",
              "          const dataTable =\n",
              "            await google.colab.kernel.invokeFunction('convertToInteractive',\n",
              "                                                     [key], {});\n",
              "          if (!dataTable) return;\n",
              "\n",
              "          const docLinkHtml = 'Like what you see? Visit the ' +\n",
              "            '<a target=\"_blank\" href=https://colab.research.google.com/notebooks/data_table.ipynb>data table notebook</a>'\n",
              "            + ' to learn more about interactive tables.';\n",
              "          element.innerHTML = '';\n",
              "          dataTable['output_type'] = 'display_data';\n",
              "          await google.colab.output.renderOutput(dataTable, element);\n",
              "          const docLink = document.createElement('div');\n",
              "          docLink.innerHTML = docLinkHtml;\n",
              "          element.appendChild(docLink);\n",
              "        }\n",
              "      </script>\n",
              "    </div>\n",
              "  </div>\n",
              "  "
            ]
          },
          "metadata": {},
          "execution_count": 12
        }
      ]
    },
    {
      "cell_type": "markdown",
      "source": [
        "**Summary**\n",
        "\n",
        "After exploring a little bit more within the data I found that this data isnt accurate or worth exploring. The data is not accurately captured and converted to common currency value. This ended the exploration for correlation between wealth and vaccination status. Not only was the data not properly represented, there were no indicators to show what currency it was recording which immediately disqualifies the dataset from being properly analyzed.\n",
        "\n",
        "**Revised Hypothesis**\n",
        "\n",
        "The adjusted hypothesis is that there will be a visible correlation between the amount of time that has passed and the amount of vaccines that have been administered as well as more poor countries would have been affected more"
      ],
      "metadata": {
        "id": "UTqhLDtIWzUn"
      }
    },
    {
      "cell_type": "code",
      "source": [
        "df['record_count'] = 1\n",
        "country_count = df.groupby('country').agg({'record_count': 'count'}).reset_index()\n",
        "country_count.nlargest(5, 'record_count')"
      ],
      "metadata": {
        "colab": {
          "base_uri": "https://localhost:8080/",
          "height": 206
        },
        "id": "sJQUYx60ExsH",
        "outputId": "7ab4327d-bf4a-4e71-b26d-4d551225da63"
      },
      "execution_count": null,
      "outputs": [
        {
          "output_type": "execute_result",
          "data": {
            "text/plain": [
              "         country  record_count\n",
              "26      Ethiopia          6098\n",
              "10  Burkina Faso          4597\n",
              "55       Nigeria          4422\n",
              "77        Uganda          3620\n",
              "44        Malawi          3595"
            ],
            "text/html": [
              "\n",
              "  <div id=\"df-785cef65-3dbc-43f5-a997-11fb47a63275\">\n",
              "    <div class=\"colab-df-container\">\n",
              "      <div>\n",
              "<style scoped>\n",
              "    .dataframe tbody tr th:only-of-type {\n",
              "        vertical-align: middle;\n",
              "    }\n",
              "\n",
              "    .dataframe tbody tr th {\n",
              "        vertical-align: top;\n",
              "    }\n",
              "\n",
              "    .dataframe thead th {\n",
              "        text-align: right;\n",
              "    }\n",
              "</style>\n",
              "<table border=\"1\" class=\"dataframe\">\n",
              "  <thead>\n",
              "    <tr style=\"text-align: right;\">\n",
              "      <th></th>\n",
              "      <th>country</th>\n",
              "      <th>record_count</th>\n",
              "    </tr>\n",
              "  </thead>\n",
              "  <tbody>\n",
              "    <tr>\n",
              "      <th>26</th>\n",
              "      <td>Ethiopia</td>\n",
              "      <td>6098</td>\n",
              "    </tr>\n",
              "    <tr>\n",
              "      <th>10</th>\n",
              "      <td>Burkina Faso</td>\n",
              "      <td>4597</td>\n",
              "    </tr>\n",
              "    <tr>\n",
              "      <th>55</th>\n",
              "      <td>Nigeria</td>\n",
              "      <td>4422</td>\n",
              "    </tr>\n",
              "    <tr>\n",
              "      <th>77</th>\n",
              "      <td>Uganda</td>\n",
              "      <td>3620</td>\n",
              "    </tr>\n",
              "    <tr>\n",
              "      <th>44</th>\n",
              "      <td>Malawi</td>\n",
              "      <td>3595</td>\n",
              "    </tr>\n",
              "  </tbody>\n",
              "</table>\n",
              "</div>\n",
              "      <button class=\"colab-df-convert\" onclick=\"convertToInteractive('df-785cef65-3dbc-43f5-a997-11fb47a63275')\"\n",
              "              title=\"Convert this dataframe to an interactive table.\"\n",
              "              style=\"display:none;\">\n",
              "        \n",
              "  <svg xmlns=\"http://www.w3.org/2000/svg\" height=\"24px\"viewBox=\"0 0 24 24\"\n",
              "       width=\"24px\">\n",
              "    <path d=\"M0 0h24v24H0V0z\" fill=\"none\"/>\n",
              "    <path d=\"M18.56 5.44l.94 2.06.94-2.06 2.06-.94-2.06-.94-.94-2.06-.94 2.06-2.06.94zm-11 1L8.5 8.5l.94-2.06 2.06-.94-2.06-.94L8.5 2.5l-.94 2.06-2.06.94zm10 10l.94 2.06.94-2.06 2.06-.94-2.06-.94-.94-2.06-.94 2.06-2.06.94z\"/><path d=\"M17.41 7.96l-1.37-1.37c-.4-.4-.92-.59-1.43-.59-.52 0-1.04.2-1.43.59L10.3 9.45l-7.72 7.72c-.78.78-.78 2.05 0 2.83L4 21.41c.39.39.9.59 1.41.59.51 0 1.02-.2 1.41-.59l7.78-7.78 2.81-2.81c.8-.78.8-2.07 0-2.86zM5.41 20L4 18.59l7.72-7.72 1.47 1.35L5.41 20z\"/>\n",
              "  </svg>\n",
              "      </button>\n",
              "      \n",
              "  <style>\n",
              "    .colab-df-container {\n",
              "      display:flex;\n",
              "      flex-wrap:wrap;\n",
              "      gap: 12px;\n",
              "    }\n",
              "\n",
              "    .colab-df-convert {\n",
              "      background-color: #E8F0FE;\n",
              "      border: none;\n",
              "      border-radius: 50%;\n",
              "      cursor: pointer;\n",
              "      display: none;\n",
              "      fill: #1967D2;\n",
              "      height: 32px;\n",
              "      padding: 0 0 0 0;\n",
              "      width: 32px;\n",
              "    }\n",
              "\n",
              "    .colab-df-convert:hover {\n",
              "      background-color: #E2EBFA;\n",
              "      box-shadow: 0px 1px 2px rgba(60, 64, 67, 0.3), 0px 1px 3px 1px rgba(60, 64, 67, 0.15);\n",
              "      fill: #174EA6;\n",
              "    }\n",
              "\n",
              "    [theme=dark] .colab-df-convert {\n",
              "      background-color: #3B4455;\n",
              "      fill: #D2E3FC;\n",
              "    }\n",
              "\n",
              "    [theme=dark] .colab-df-convert:hover {\n",
              "      background-color: #434B5C;\n",
              "      box-shadow: 0px 1px 3px 1px rgba(0, 0, 0, 0.15);\n",
              "      filter: drop-shadow(0px 1px 2px rgba(0, 0, 0, 0.3));\n",
              "      fill: #FFFFFF;\n",
              "    }\n",
              "  </style>\n",
              "\n",
              "      <script>\n",
              "        const buttonEl =\n",
              "          document.querySelector('#df-785cef65-3dbc-43f5-a997-11fb47a63275 button.colab-df-convert');\n",
              "        buttonEl.style.display =\n",
              "          google.colab.kernel.accessAllowed ? 'block' : 'none';\n",
              "\n",
              "        async function convertToInteractive(key) {\n",
              "          const element = document.querySelector('#df-785cef65-3dbc-43f5-a997-11fb47a63275');\n",
              "          const dataTable =\n",
              "            await google.colab.kernel.invokeFunction('convertToInteractive',\n",
              "                                                     [key], {});\n",
              "          if (!dataTable) return;\n",
              "\n",
              "          const docLinkHtml = 'Like what you see? Visit the ' +\n",
              "            '<a target=\"_blank\" href=https://colab.research.google.com/notebooks/data_table.ipynb>data table notebook</a>'\n",
              "            + ' to learn more about interactive tables.';\n",
              "          element.innerHTML = '';\n",
              "          dataTable['output_type'] = 'display_data';\n",
              "          await google.colab.output.renderOutput(dataTable, element);\n",
              "          const docLink = document.createElement('div');\n",
              "          docLink.innerHTML = docLinkHtml;\n",
              "          element.appendChild(docLink);\n",
              "        }\n",
              "      </script>\n",
              "    </div>\n",
              "  </div>\n",
              "  "
            ]
          },
          "metadata": {},
          "execution_count": 4
        }
      ]
    },
    {
      "cell_type": "markdown",
      "source": [
        "**Summary**\n",
        "\n",
        "I wanted to explore to see what the heaviest hit countries from COVID were based on the data that we were presented with. Since the data was based on polling the assumption is that this is a subset of a much larger dataset that is currently not avaliable to the public"
      ],
      "metadata": {
        "id": "XH5mv9w4jHbh"
      }
    },
    {
      "cell_type": "code",
      "source": [
        "year_group = df.groupby('year').agg({'sample_total':'sum'})\n",
        "plot = year_group.plot.pie(y='sample_total', figsize=(5, 5))"
      ],
      "metadata": {
        "colab": {
          "base_uri": "https://localhost:8080/",
          "height": 303
        },
        "id": "FiYZ9MN-nVaS",
        "outputId": "028d8c85-6ce8-48e5-e83b-eaa67e7d7745"
      },
      "execution_count": null,
      "outputs": [
        {
          "output_type": "display_data",
          "data": {
            "text/plain": [
              "<Figure size 360x360 with 1 Axes>"
            ],
            "image/png": "[encoded data removed]"
          },
          "metadata": {}
        }
      ]
    },
    {
      "cell_type": "markdown",
      "source": [
        "**Summary**\n",
        "\n",
        "Breaking down the total sample size to represent what the total \n",
        "make up is by year. We see  that the majority of the polling was done in the year 2020"
      ],
      "metadata": {
        "id": "DqBfFS_6jM3C"
      }
    },
    {
      "cell_type": "code",
      "source": [
        "def vax_cleanup(df):\n",
        "  y = df[df['indicator'] == 'Vac_done']\n",
        "  x = y.copy()\n",
        "  x['percentage_vaccinated'] = (x['sample_subset']/x['sample_total']) *100 \n",
        "  x['month'] = x['month'].astype('int')\n",
        "  x['date'] = x['month'].astype('str') + '-'+ x['year'].astype('str')\n",
        "  x['date'] = pd.to_datetime(x['date'], format='%m-%Y')\n",
        "  return x"
      ],
      "metadata": {
        "id": "oPpI2MTo2tgx"
      },
      "execution_count": null,
      "outputs": []
    },
    {
      "cell_type": "markdown",
      "source": [
        "**Summary**\n",
        "\n",
        "This was a function that I created to help massage the data to the format that I wanted and would be reusing a few times. I wanted to filter specifically to where the indicator specified that the vaccine was taken, create another column with the calculated percentage of respondants based on the sample size and cast the month and year as a proper date format for later graphs and analysis"
      ],
      "metadata": {
        "id": "8vzl1nmvxtPs"
      }
    },
    {
      "cell_type": "code",
      "source": [
        "vax_status = vax_cleanup(df)\n",
        "\n",
        "percentage = vax_status['percentage_vaccinated'].astype('category').cat.codes\n",
        "development = vax_status['urban_rural'].astype('category').cat.codes\n",
        "\n",
        "vax_correlation = percentage.corr(development)\n",
        "vax_correlation\n",
        "\n",
        "relation = vax_status.groupby('urban_rural').agg({'percentage_vaccinated': 'mean'})\n",
        "relation['percentage_vaccinated'] = relation['percentage_vaccinated']/100\n",
        "relation.style.format(\"{:.2%}\")"
      ],
      "metadata": {
        "id": "HwMeSoRWodq6",
        "colab": {
          "base_uri": "https://localhost:8080/",
          "height": 175
        },
        "outputId": "e77d3d57-fe6b-4721-fc70-59e8c2cc17f9"
      },
      "execution_count": null,
      "outputs": [
        {
          "output_type": "execute_result",
          "data": {
            "text/plain": [
              "<pandas.io.formats.style.Styler at 0x7fa89e45fad0>"
            ],
            "text/html": [
              "<style type=\"text/css\">\n",
              "</style>\n",
              "<table id=\"T_862a4_\" class=\"dataframe\">\n",
              "  <thead>\n",
              "    <tr>\n",
              "      <th class=\"blank level0\" >&nbsp;</th>\n",
              "      <th class=\"col_heading level0 col0\" >percentage_vaccinated</th>\n",
              "    </tr>\n",
              "    <tr>\n",
              "      <th class=\"index_name level0\" >urban_rural</th>\n",
              "      <th class=\"blank col0\" >&nbsp;</th>\n",
              "    </tr>\n",
              "  </thead>\n",
              "  <tbody>\n",
              "    <tr>\n",
              "      <th id=\"T_862a4_level0_row0\" class=\"row_heading level0 row0\" >National</th>\n",
              "      <td id=\"T_862a4_row0_col0\" class=\"data row0 col0\" >36.32%</td>\n",
              "    </tr>\n",
              "    <tr>\n",
              "      <th id=\"T_862a4_level0_row1\" class=\"row_heading level0 row1\" >Rural</th>\n",
              "      <td id=\"T_862a4_row1_col0\" class=\"data row1 col0\" >15.60%</td>\n",
              "    </tr>\n",
              "    <tr>\n",
              "      <th id=\"T_862a4_level0_row2\" class=\"row_heading level0 row2\" >Urban</th>\n",
              "      <td id=\"T_862a4_row2_col0\" class=\"data row2 col0\" >25.00%</td>\n",
              "    </tr>\n",
              "  </tbody>\n",
              "</table>\n"
            ]
          },
          "metadata": {},
          "execution_count": 7
        }
      ]
    },
    {
      "cell_type": "markdown",
      "source": [
        "**Summary**\n",
        "\n",
        "Attempting to see if there is a clear correlation between the percentage of \n",
        "the sample population vaccinated and if they live in a rural or urban area"
      ],
      "metadata": {
        "id": "cBCpniZ3jRJL"
      }
    },
    {
      "cell_type": "markdown",
      "source": [
        ""
      ],
      "metadata": {
        "id": "_AZ16W9SvBw-"
      }
    },
    {
      "cell_type": "code",
      "source": [
        "frame_count = df[['region_code', 'region']]\\\n",
        "              .groupby('region_code')\\\n",
        "              .agg({'region' : 'count'})\\\n",
        "              .reset_index()\n",
        "frame_count.rename(columns={\"region\": \"region_count\"})\n",
        "frame_plot = df[['region', 'region_code']]\n",
        "frame_plot_graph = frame_count.join(frame_plot.set_index('region_code'),\\\n",
        "                                    on='region_code', how='inner', lsuffix='_count')\\\n",
        "                                    .sort_values(by='region_count', ascending=False)"
      ],
      "metadata": {
        "id": "kdL9pO-rW_0n"
      },
      "execution_count": null,
      "outputs": []
    },
    {
      "cell_type": "markdown",
      "source": [
        "**Summary**\n",
        "\n",
        "In order to properly plot the graph I wanted to manually create a smaller dataframe with the data of interest. I had taken the counts of each of the occurances of the region. After I had aggregated the data it was joined back to the dataframe to force the order of the graph below"
      ],
      "metadata": {
        "id": "nMV36Kz60jw1"
      }
    },
    {
      "cell_type": "code",
      "source": [
        "%matplotlib inline\n",
        "sns.set(style=\"darkgrid\")\n",
        "ax = sns.countplot(x='region_code', hue='region', data=frame_plot_graph)\n",
        "sns.move_legend(ax, \"upper right\")\n",
        "plt.show()"
      ],
      "metadata": {
        "colab": {
          "base_uri": "https://localhost:8080/",
          "height": 285
        },
        "id": "aeIs6Gs7k4Kt",
        "outputId": "34e6f0e7-0425-4739-b872-d6e626654849"
      },
      "execution_count": null,
      "outputs": [
        {
          "output_type": "display_data",
          "data": {
            "text/plain": [
              "<Figure size 432x288 with 1 Axes>"
            ],
            "image/png": "[encoded data removed]"
          },
          "metadata": {}
        }
      ]
    },
    {
      "cell_type": "markdown",
      "source": [
        "**Summary**\n",
        "\n",
        "The histogram here I wanted to show the regions that were affected by COVID based on a count. This graph specifically shows the country region codes, these regions are very broad and require the user to understand what countries are in these regions or to individually pull out the country data point. \n",
        "\n",
        "I wanted to focus on the high level regionality of the polls to see what regions were affected the most."
      ],
      "metadata": {
        "id": "1t0XV6fxjBQ9"
      }
    },
    {
      "cell_type": "code",
      "source": [
        "timeframe_vax = vax_cleanup(df)\n",
        "\n",
        "ts = pd.Series(timeframe_vax['sample_subset'].values, index=timeframe_vax['date'])\n",
        "ts2 = ts.resample('M', closed='right', label='right').sum()\n",
        "ax = ts2.plot()\n",
        "ax.set_yticklabels(pd.Series(ax.get_yticks()).map(lambda x: '{:.0f}'.format(x)))"
      ],
      "metadata": {
        "id": "S7IcgBwp6tH_",
        "colab": {
          "base_uri": "https://localhost:8080/",
          "height": 398
        },
        "outputId": "3ac90367-c886-4663-9461-baa72550e0c7"
      },
      "execution_count": null,
      "outputs": [
        {
          "output_type": "execute_result",
          "data": {
            "text/plain": [
              "[Text(0, 0, '0'),\n",
              " Text(0, 0, '20000'),\n",
              " Text(0, 0, '40000'),\n",
              " Text(0, 0, '60000'),\n",
              " Text(0, 0, '80000'),\n",
              " Text(0, 0, '100000')]"
            ]
          },
          "metadata": {},
          "execution_count": 10
        },
        {
          "output_type": "display_data",
          "data": {
            "text/plain": [
              "<Figure size 432x288 with 1 Axes>"
            ],
            "image/png": "[encoded data removed]"
          },
          "metadata": {}
        }
      ]
    },
    {
      "cell_type": "markdown",
      "source": [
        "**Summary**\n",
        "\n",
        "This graph represents the amount of the surveyed population that responded indicating that they had gotten the vaccine. The goal here was to show if there was a trend that the longer time that had passed the more vaccines that were administered. "
      ],
      "metadata": {
        "id": "61DurIBSjVYx"
      }
    },
    {
      "cell_type": "code",
      "source": [
        "\"\"\"\n",
        "Correlation between vaccine acceptance and month/year\n",
        "\"\"\"\n",
        "timeframe_vax_corr = timeframe_vax.copy()\n",
        "timeframe_vax_corr = timeframe_vax_corr[timeframe_vax_corr['percentage_vaccinated'] != None]\n",
        "plt.scatter(timeframe_vax_corr['date'], timeframe_vax_corr['percentage_vaccinated'], s =10, c = 'red')"
      ],
      "metadata": {
        "colab": {
          "base_uri": "https://localhost:8080/",
          "height": 285
        },
        "id": "vV1LBDtD_cJm",
        "outputId": "17ba8122-971b-426b-b130-a7d33c71b812"
      },
      "execution_count": null,
      "outputs": [
        {
          "output_type": "execute_result",
          "data": {
            "text/plain": [
              "<matplotlib.collections.PathCollection at 0x7fa89da87e10>"
            ]
          },
          "metadata": {},
          "execution_count": 11
        },
        {
          "output_type": "display_data",
          "data": {
            "text/plain": [
              "<Figure size 432x288 with 1 Axes>"
            ],
            "image/png": "[encoded data removed]"
          },
          "metadata": {}
        }
      ]
    },
    {
      "cell_type": "markdown",
      "source": [
        "**Summary**\n",
        "\n",
        "Showing a distribution of the vaccines administered by month. As time goes by we can see that there are more vaccines taken however after plotting the data in a distributed manner we can see that there are more data points that trend towards the lower percentages with more solid lines."
      ],
      "metadata": {
        "id": "suGpvm8Iu4iE"
      }
    },
    {
      "cell_type": "markdown",
      "source": [
        "**Overall Conclusion**\n",
        "\n",
        "The conclusion of my exploration shows that due to the incomplete dataset that there appears to be no relation between gdp and vaccine status, but I was able to see a distinct relation between the number of vaccines administered the longer time that had passed. Given a more structured and complete dataset, additional stronger conclusions could have been made and more evidence could have been presented."
      ],
      "metadata": {
        "id": "mNby-hx22KYA"
      }
    },
    {
      "cell_type": "code",
      "source": [
        ""
      ],
      "metadata": {
        "id": "B71vSWuktPln"
      },
      "execution_count": null,
      "outputs": []
    }
  ]
}